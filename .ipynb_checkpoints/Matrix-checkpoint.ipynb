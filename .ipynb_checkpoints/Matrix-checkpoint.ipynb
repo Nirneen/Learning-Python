{
 "cells": [
  {
   "cell_type": "code",
   "execution_count": 4,
   "metadata": {},
   "outputs": [
    {
     "data": {
      "text/plain": [
       "array([[10,  2,  3],\n",
       "       [ 4,  5,  6],\n",
       "       [ 7,  8,  9]])"
      ]
     },
     "execution_count": 4,
     "metadata": {},
     "output_type": "execute_result"
    }
   ],
   "source": [
    "import numpy as np\n",
    "\n",
    "matrix = np.array([[10, 2, 3], [4, 5, 6], [7, 8, 9]])\n",
    "matrix"
   ]
  },
  {
   "cell_type": "code",
   "execution_count": 87,
   "metadata": {},
   "outputs": [
    {
     "data": {
      "text/plain": [
       "array([[10,  2,  3],\n",
       "       [ 4,  5,  6]])"
      ]
     },
     "execution_count": 87,
     "metadata": {},
     "output_type": "execute_result"
    }
   ],
   "source": []
  },
  {
   "cell_type": "code",
   "execution_count": 89,
   "metadata": {},
   "outputs": [
    {
     "data": {
      "text/plain": [
       "-27"
      ]
     },
     "execution_count": 89,
     "metadata": {},
     "output_type": "execute_result"
    }
   ],
   "source": [
    "a = matrix[0][0] * matrix[1][1] * matrix[2][2]\n",
    "b = matrix[0][2] * matrix[1][0] * matrix[2][1]\n",
    "c = matrix[0][1] * matrix[1][2] * matrix[2][0]\n",
    "d = matrix[0][2] * matrix[1][1] * matrix[2][0]\n",
    "e = matrix[0][1] * matrix[1][0] * matrix[2][2]\n",
    "f = matrix[0][0] * matrix[1][2] * matrix[2][1]\n",
    "\n",
    "det = a + b + c - d - e - f\n",
    "det"
   ]
  },
  {
   "cell_type": "markdown",
   "metadata": {},
   "source": [
    "a = matrix[0][0] * matrix[1][1] * matrix[2][2]\n",
    "b = matrix[0][2] * matrix[1][0] * matrix[2][1]\n",
    "c = matrix[0][1] * matrix[1][2] * matrix[2][0]\n",
    "d = matrix[0][2] * matrix[1][1] * matrix[2][0]\n",
    "e = matrix[0][1] * matrix[1][0] * matrix[2][2]\n",
    "f = matrix[0][0] * matrix[1][2] * matrix[2][1]\n",
    "\n",
    "det = a + b + c - d - e - f\n",
    "det"
   ]
  },
  {
   "cell_type": "code",
   "execution_count": 112,
   "metadata": {},
   "outputs": [
    {
     "name": "stdout",
     "output_type": "stream",
     "text": [
      "[[5 6]\n",
      " [8 9]]\n",
      "[[4 6]\n",
      " [7 9]]\n",
      "[[4 5]\n",
      " [7 8]]\n",
      "[[2 3]\n",
      " [8 9]]\n",
      "[[10  3]\n",
      " [ 7  9]]\n",
      "[[10  2]\n",
      " [ 7  8]]\n",
      "[[2 3]\n",
      " [5 6]]\n",
      "[[10  3]\n",
      " [ 4  6]]\n",
      "[[10  2]\n",
      " [ 4  5]]\n"
     ]
    }
   ],
   "source": [
    "if det != 0:\n",
    "    for i in range(0,3):\n",
    "        row1 = 1//(1 + i)\n",
    "        row2 = 8//(3 + i)\n",
    "        for j in range(0,3):\n",
    "            col1 = 1//(1 + j)\n",
    "            col2 = 8//(3 + j)\n",
    "            matrix2 = np.array([[matrix[row1][col1], matrix[row1][col2]], [matrix[row2][col1], matrix[row2][col2]]])\n",
    "            print(matrix2)\n",
    "            "
   ]
  },
  {
   "cell_type": "code",
   "execution_count": 46,
   "metadata": {},
   "outputs": [
    {
     "data": {
      "text/plain": [
       "0"
      ]
     },
     "execution_count": 46,
     "metadata": {},
     "output_type": "execute_result"
    }
   ],
   "source": [
    "matrix2 = np.array([[matrix1[0][1], matrix1[0][2]], [matrix1[1][1], matrix1[1][2]]])\n",
    "matrix3 = np.array([[matrix1[0][0], matrix1[0][2]] ,[matrix1[1][0], matrix1[1][2]]])\n",
    "matrix4 = np.array([[matrix1[0][0], matrix1[0][1]] ,[matrix1[1][0], matrix1[1][1]]])"
   ]
  },
  {
   "cell_type": "code",
   "execution_count": null,
   "metadata": {},
   "outputs": [],
   "source": [
    "mat = np.array"
   ]
  }
 ],
 "metadata": {
  "kernelspec": {
   "display_name": "Python 3",
   "language": "python",
   "name": "python3"
  },
  "language_info": {
   "codemirror_mode": {
    "name": "ipython",
    "version": 3
   },
   "file_extension": ".py",
   "mimetype": "text/x-python",
   "name": "python",
   "nbconvert_exporter": "python",
   "pygments_lexer": "ipython3",
   "version": "3.7.1"
  }
 },
 "nbformat": 4,
 "nbformat_minor": 2
}
